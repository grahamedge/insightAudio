{
 "cells": [
  {
   "cell_type": "code",
   "execution_count": 1,
   "metadata": {},
   "outputs": [],
   "source": [
    "#Third party packages\n",
    "import numpy as np\n",
    "import pandas as pd\n",
    "import sys\n",
    "import matplotlib.pyplot as plt\n",
    "%matplotlib inline\n",
    "\n",
    "#Custom packages\n",
    "from SQL.load_rows import load_cluster_labels, load_a_cluster_label, load_intensity\n",
    "import Audio.cluster_audio_features as cluster_funcs\n"
   ]
  },
  {
   "cell_type": "code",
   "execution_count": 2,
   "metadata": {},
   "outputs": [],
   "source": [
    "def import_class_data(youtube_id, folder = '~/Insight2017/Labelled_Data/'):\n",
    "    filename = folder+str(youtube_id)+'.csv'\n",
    "    try: classification_results = pd.read_csv(filename, header=None, names=['Time','Speaker'])\n",
    "    except IOError:\n",
    "        print('No file found, check youtube ID and folder!')\n",
    "    return classification_results\n",
    "\n",
    "def speaker_label_to_num(classification_results):\n",
    "    '''takes string labels for speaker like A or B and\n",
    "    converts to unique integers'''\n",
    "    labels = classification_results.Speaker.unique()\n",
    "    classes = classification_results.Speaker.values\n",
    "    int_labels = np.zeros(classification_results.Speaker.shape)\n",
    "    for n, label in enumerate(labels):\n",
    "        int_labels[classes==label] = n\n",
    "        \n",
    "    return int_labels\n",
    "\n",
    "def time_string_to_sec(classification_results):\n",
    "    '''convert from mm:ss time string into seconds'''\n",
    "    times = np.zeros(classification_results.Time.shape)\n",
    "    \n",
    "    for n,time in enumerate(classification_results.Time):\n",
    "        elements = time.split(\":\")\n",
    "        times[n] = 60*int(elements[0])+int(elements[1])\n",
    "    return times\n",
    "\n",
    "def produce_speaker_vector(times, classification_results):\n",
    "    '''takes some hand-recorded data for speakers in a video and uses them\n",
    "    to classify the speaker for every time element in the time vector \"times\" '''\n",
    "    \n",
    "    results = np.zeros(times.shape)\n",
    "    \n",
    "    class_times = time_string_to_sec(classification_results)\n",
    "    class_labels = speaker_label_to_num(classification_results)\n",
    "    \n",
    "    results[times<class_times[0]] = class_labels[0]\n",
    "    for n,label in enumerate(class_labels):\n",
    "        speaker_times = (times<class_times[n]) & (times > class_times[n-1])\n",
    "        results[speaker_times] = label\n",
    "        \n",
    "    return results"
   ]
  },
  {
   "cell_type": "markdown",
   "metadata": {},
   "source": [
    "Specify the Youtube File\n",
    "---"
   ]
  },
  {
   "cell_type": "code",
   "execution_count": 3,
   "metadata": {
    "collapsed": true
   },
   "outputs": [],
   "source": [
    "youtube_id = '5qsVB5ZmrD4'"
   ]
  },
  {
   "cell_type": "markdown",
   "metadata": {},
   "source": [
    "Load the cluster predictions from PostgreSQL Database\n",
    "---"
   ]
  },
  {
   "cell_type": "code",
   "execution_count": 4,
   "metadata": {
    "collapsed": true
   },
   "outputs": [],
   "source": [
    "#cluster_df = load_cluster_labels(youtube_id)\n",
    "\n",
    "#cluster_times = cluster_df['time'].as_matrix()\n",
    "#cluster_labels = cluster_df['cluster_label_raw'].as_matrix()"
   ]
  },
  {
   "cell_type": "code",
   "execution_count": 5,
   "metadata": {},
   "outputs": [
    {
     "name": "stdout",
     "output_type": "stream",
     "text": [
      "Total number of feature rows: 439\n"
     ]
    }
   ],
   "source": [
    "# or recalculate using the algorithm, based on the features in the SQL database\n",
    "cluster_times, cluster_labels = cluster_funcs.calc_cluster_labels(youtube_id)"
   ]
  },
  {
   "cell_type": "code",
   "execution_count": 6,
   "metadata": {},
   "outputs": [
    {
     "name": "stdout",
     "output_type": "stream",
     "text": [
      "Total number of feature rows: 439\n"
     ]
    }
   ],
   "source": [
    "# also calculate the clusters using my new minority removal function\n",
    "cluster_times, cluster_labels = cluster_funcs.calc_cluster_labels_with_rejection(youtube_id)"
   ]
  },
  {
   "cell_type": "markdown",
   "metadata": {},
   "source": [
    "Load the human labels from .csv file\n",
    "---"
   ]
  },
  {
   "cell_type": "code",
   "execution_count": 7,
   "metadata": {},
   "outputs": [],
   "source": [
    "class_df = import_class_data(youtube_id)\n",
    "\n",
    "t_max = time_string_to_sec(class_df).max()\n",
    "true_classes = produce_speaker_vector(cluster_times, class_df)"
   ]
  },
  {
   "cell_type": "markdown",
   "metadata": {},
   "source": [
    "Find the accuracy\n",
    "---"
   ]
  },
  {
   "cell_type": "code",
   "execution_count": 8,
   "metadata": {},
   "outputs": [
    {
     "name": "stdout",
     "output_type": "stream",
     "text": [
      "Second-by-second accuracy is 57%\n",
      "Trivial accuracy would be 76%\n"
     ]
    }
   ],
   "source": [
    "accuracy = np.mean(true_classes == cluster_labels)\n",
    "if accuracy < 0.5:\n",
    "    accuracy = 1-accuracy\n",
    "    true_classes = np.logical_not(true_classes.astype(bool)).astype(int)\n",
    "print('Second-by-second accuracy is %d%%' % int(100*accuracy))\n",
    "triv_accuracy = true_classes.mean()\n",
    "if triv_accuracy < 0.5:\n",
    "    triv_accuracy = 1-triv_accuracy\n",
    "print('Trivial accuracy would be %d%%' % int(100*triv_accuracy))"
   ]
  },
  {
   "cell_type": "markdown",
   "metadata": {},
   "source": [
    "Compare the two graphically\n",
    "---"
   ]
  },
  {
   "cell_type": "code",
   "execution_count": 9,
   "metadata": {},
   "outputs": [
    {
     "data": {
      "text/plain": [
       "<matplotlib.collections.PolyCollection at 0x7f3fd01473d0>"
      ]
     },
     "execution_count": 9,
     "metadata": {},
     "output_type": "execute_result"
    },
    {
     "data": {
      "image/png": "[encoded data removed]",
      "text/plain": [
       "<matplotlib.figure.Figure at 0x7f3fd0147cd0>"
      ]
     },
     "metadata": {},
     "output_type": "display_data"
    }
   ],
   "source": [
    "plt.subplot(211)\n",
    "plt.fill_between(cluster_times, 0, true_classes)\n",
    "plt.subplot(212)\n",
    "plt.fill_between(cluster_times, 0, cluster_labels)"
   ]
  },
  {
   "cell_type": "code",
   "execution_count": null,
   "metadata": {
    "collapsed": true
   },
   "outputs": [],
   "source": []
  }
 ],
 "metadata": {
  "kernelspec": {
   "display_name": "Python (Insight)",
   "language": "python",
   "name": "insight"
  },
  "language_info": {
   "codemirror_mode": {
    "name": "ipython",
    "version": 2
   },
   "file_extension": ".py",
   "mimetype": "text/x-python",
   "name": "python",
   "nbconvert_exporter": "python",
   "pygments_lexer": "ipython2",
   "version": "2.7.12"
  }
 },
 "nbformat": 4,
 "nbformat_minor": 2
}
